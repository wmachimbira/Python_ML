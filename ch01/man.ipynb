{
 "cells": [
  {
   "cell_type": "code",
   "execution_count": null,
   "id": "21f46e54",
   "metadata": {},
   "outputs": [],
   "source": [
    "from google.colab import drive\n",
    "drive.mount('/content/drive')"
   ]
  },
  {
   "cell_type": "code",
   "execution_count": 1,
   "id": "45151651",
   "metadata": {
    "lines_to_next_cell": 1
   },
   "outputs": [],
   "source": [
    "class Man:\n",
    "    \"\"\"샘플 클래스\"\"\"\n",
    "\n",
    "    def __init__(self, name):\n",
    "        self.name = name\n",
    "        print(\"Initilized!\")\n",
    "\n",
    "    def hello(self):\n",
    "        print(\"Hello \" + self.name + \"!\")\n",
    "\n",
    "    def goodbye(self):\n",
    "        print(\"Good-bye \" + self.name + \"!\")"
   ]
  },
  {
   "cell_type": "code",
   "execution_count": null,
   "id": "de9bec85",
   "metadata": {},
   "outputs": [],
   "source": [
    "m = Man(\"David\")\n",
    "m.hello()\n",
    "m.goodbye()"
   ]
  }
 ],
 "metadata": {
  "jupytext": {
   "cell_metadata_filter": "-all",
   "encoding": "# coding: utf-8",
   "main_language": "python",
   "notebook_metadata_filter": "-all"
  },
  "kernelspec": {
   "display_name": "Python 3 (ipykernel)",
   "language": "python",
   "name": "python3"
  },
  "language_info": {
   "codemirror_mode": {
    "name": "ipython",
    "version": 3
   },
   "file_extension": ".py",
   "mimetype": "text/x-python",
   "name": "python",
   "nbconvert_exporter": "python",
   "pygments_lexer": "ipython3",
   "version": "3.11.5"
  }
 },
 "nbformat": 4,
 "nbformat_minor": 5
}
