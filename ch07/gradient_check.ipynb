{
 "cells": [
  {
   "cell_type": "code",
   "execution_count": null,
   "id": "b0a02047",
   "metadata": {},
   "outputs": [],
   "source": [
    "from google.colab import drive\n",
    "drive.mount('/content/drive')"
   ]
  },
  {
   "cell_type": "code",
   "execution_count": 1,
   "id": "f2d12704",
   "metadata": {},
   "outputs": [],
   "source": [
    "import numpy as np\n",
    "from simple_convnet import SimpleConvNet"
   ]
  },
  {
   "cell_type": "code",
   "execution_count": 2,
   "id": "3e91ed76",
   "metadata": {},
   "outputs": [],
   "source": [
    "network = SimpleConvNet(input_dim=(1,10, 10), \n",
    "                        conv_param = {'filter_num':10, 'filter_size':3, 'pad':0, 'stride':1},\n",
    "                        hidden_size=10, output_size=10, weight_init_std=0.01)"
   ]
  },
  {
   "cell_type": "code",
   "execution_count": 3,
   "id": "df38e698",
   "metadata": {},
   "outputs": [],
   "source": [
    "X = np.random.rand(100).reshape((1, 1, 10, 10))\n",
    "T = np.array([1]).reshape((1,1))"
   ]
  },
  {
   "cell_type": "code",
   "execution_count": 4,
   "id": "1a14a1c1",
   "metadata": {},
   "outputs": [],
   "source": [
    "grad_num = network.numerical_gradient(X, T)\n",
    "grad = network.gradient(X, T)"
   ]
  },
  {
   "cell_type": "code",
   "execution_count": 5,
   "id": "6ce86f60",
   "metadata": {},
   "outputs": [
    {
     "name": "stdout",
     "output_type": "stream",
     "text": [
      "W1 2.0094779036360247e-06\n",
      "b1 5.92514685563263e-10\n",
      "W2 5.206268833149965e-11\n",
      "b2 3.1216898985046702e-09\n",
      "W3 1.2859119913772319e-10\n",
      "b3 1.7991350805129925e-07\n"
     ]
    }
   ],
   "source": [
    "for key, val in grad_num.items():\n",
    "    print(key, np.abs(grad_num[key] - grad[key]).mean())"
   ]
  }
 ],
 "metadata": {
  "jupytext": {
   "cell_metadata_filter": "-all",
   "encoding": "# coding: utf-8",
   "main_language": "python",
   "notebook_metadata_filter": "-all"
  },
  "kernelspec": {
   "display_name": "pytorch",
   "language": "python",
   "name": "python3"
  },
  "language_info": {
   "codemirror_mode": {
    "name": "ipython",
    "version": 3
   },
   "file_extension": ".py",
   "mimetype": "text/x-python",
   "name": "python",
   "nbconvert_exporter": "python",
   "pygments_lexer": "ipython3",
   "version": "3.8.18"
  }
 },
 "nbformat": 4,
 "nbformat_minor": 5
}
