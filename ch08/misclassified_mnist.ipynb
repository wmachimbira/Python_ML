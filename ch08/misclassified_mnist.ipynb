{
 "cells": [
  {
   "cell_type": "code",
   "execution_count": null,
   "id": "30e87440",
   "metadata": {},
   "outputs": [],
   "source": [
    "from google.colab import drive\n",
    "drive.mount('/content/drive')"
   ]
  },
  {
   "cell_type": "code",
   "execution_count": null,
   "id": "730fc3f8",
   "metadata": {
    "lines_to_next_cell": 2
   },
   "outputs": [],
   "source": [
    "import sys, os\n",
    "sys.path.append(os.pardir)  # 부모 디렉터리의 파일을 가져올 수 있도록 설정\n",
    "import numpy as np\n",
    "import matplotlib.pyplot as plt\n",
    "from deep_convnet import DeepConvNet\n",
    "from dataset.mnist import load_mnist"
   ]
  },
  {
   "cell_type": "code",
   "execution_count": null,
   "id": "7c79aec4",
   "metadata": {},
   "outputs": [],
   "source": [
    "(x_train, t_train), (x_test, t_test) = load_mnist(flatten=False)"
   ]
  },
  {
   "cell_type": "code",
   "execution_count": null,
   "id": "b0059274",
   "metadata": {},
   "outputs": [],
   "source": [
    "network = DeepConvNet()\n",
    "network.load_params(\"deep_convnet_params.pkl\")"
   ]
  },
  {
   "cell_type": "code",
   "execution_count": null,
   "id": "efa938b5",
   "metadata": {},
   "outputs": [],
   "source": [
    "print(\"calculating test accuracy ... \")\n",
    "#sampled = 1000\n",
    "#x_test = x_test[:sampled]\n",
    "#t_test = t_test[:sampled]"
   ]
  },
  {
   "cell_type": "code",
   "execution_count": null,
   "id": "203001ca",
   "metadata": {},
   "outputs": [],
   "source": [
    "classified_ids = []"
   ]
  },
  {
   "cell_type": "code",
   "execution_count": null,
   "id": "8649a227",
   "metadata": {},
   "outputs": [],
   "source": [
    "acc = 0.0\n",
    "batch_size = 100"
   ]
  },
  {
   "cell_type": "code",
   "execution_count": null,
   "id": "da7d466c",
   "metadata": {},
   "outputs": [],
   "source": [
    "for i in range(int(x_test.shape[0] / batch_size)):\n",
    "    tx = x_test[i*batch_size:(i+1)*batch_size]\n",
    "    tt = t_test[i*batch_size:(i+1)*batch_size]\n",
    "    y = network.predict(tx, train_flg=False)\n",
    "    y = np.argmax(y, axis=1)\n",
    "    classified_ids.append(y)\n",
    "    acc += np.sum(y == tt)"
   ]
  },
  {
   "cell_type": "code",
   "execution_count": null,
   "id": "f0ae93b7",
   "metadata": {},
   "outputs": [],
   "source": [
    "acc = acc / x_test.shape[0]\n",
    "print(\"test accuracy:\" + str(acc))"
   ]
  },
  {
   "cell_type": "code",
   "execution_count": null,
   "id": "0cb1134b",
   "metadata": {},
   "outputs": [],
   "source": [
    "classified_ids = np.array(classified_ids)\n",
    "classified_ids = classified_ids.flatten()"
   ]
  },
  {
   "cell_type": "code",
   "execution_count": null,
   "id": "cb1b67c9",
   "metadata": {},
   "outputs": [],
   "source": [
    "max_view = 20\n",
    "current_view = 1"
   ]
  },
  {
   "cell_type": "code",
   "execution_count": null,
   "id": "82af5187",
   "metadata": {},
   "outputs": [],
   "source": [
    "fig = plt.figure()\n",
    "fig.subplots_adjust(left=0, right=1, bottom=0, top=1, hspace=0.2, wspace=0.2)"
   ]
  },
  {
   "cell_type": "code",
   "execution_count": null,
   "id": "0fd1c565",
   "metadata": {},
   "outputs": [],
   "source": [
    "mis_pairs = {}\n",
    "for i, val in enumerate(classified_ids == t_test):\n",
    "    if not val:\n",
    "        ax = fig.add_subplot(4, 5, current_view, xticks=[], yticks=[])\n",
    "        ax.imshow(x_test[i].reshape(28, 28), cmap=plt.cm.gray_r, interpolation='nearest')\n",
    "        mis_pairs[current_view] = (t_test[i], classified_ids[i])\n",
    "            \n",
    "        current_view += 1\n",
    "        if current_view > max_view:\n",
    "            break"
   ]
  },
  {
   "cell_type": "code",
   "execution_count": null,
   "id": "1de8a29b",
   "metadata": {},
   "outputs": [],
   "source": [
    "print(\"======= misclassified result =======\")\n",
    "print(\"{view index: (label, inference), ...}\")\n",
    "print(mis_pairs)"
   ]
  },
  {
   "cell_type": "code",
   "execution_count": null,
   "id": "1156541e",
   "metadata": {},
   "outputs": [],
   "source": [
    "plt.show()"
   ]
  }
 ],
 "metadata": {
  "jupytext": {
   "cell_metadata_filter": "-all",
   "encoding": "# coding: utf-8",
   "main_language": "python",
   "notebook_metadata_filter": "-all"
  },
  "language_info": {
   "name": "python"
  }
 },
 "nbformat": 4,
 "nbformat_minor": 5
}
